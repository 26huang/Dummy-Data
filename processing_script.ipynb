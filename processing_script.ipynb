{
 "cells": [
  {
   "cell_type": "code",
   "execution_count": null,
   "metadata": {},
   "outputs": [],
   "source": [
    "import pandas as pd\n",
    "import datetime\n",
    "import calendar"
   ]
  },
  {
   "cell_type": "code",
   "execution_count": null,
   "metadata": {},
   "outputs": [],
   "source": [
    "def read_data(filename):\n",
    "    return pd.read_excel(filename)"
   ]
  },
  {
   "cell_type": "code",
   "execution_count": null,
   "metadata": {},
   "outputs": [],
   "source": [
    "def generate_from(start, end, interval=3600):\n",
    "    interval_num = int((end-start).total_seconds()/interval)\n",
    "    return pd.DataFrame({'from': [start+datetime.timedelta(seconds=i*interval) for i in range(interval_num)]})\n",
    "\n",
    "def generate_to(start, end, interval=3600):\n",
    "    interval_num = int((end-start).total_seconds()/interval)\n",
    "    return pd.DataFrame({'to': [start+datetime.timedelta(seconds=(i+1)*interval) for i in range(interval_num)]})"
   ]
  },
  {
   "cell_type": "code",
   "execution_count": null,
   "metadata": {},
   "outputs": [],
   "source": [
    "def generate_fields(data):\n",
    "    data['date'] = data['active'].apply(lambda x: datetime.datetime.date(x))\n",
    "    data['day of week'] = data['date'].apply(lambda x: calendar.day_name[x.weekday()])\n",
    "    data['from'] = data['active'].apply(lambda x: x.replace(minute=0, second=0))\n",
    "    data['to'] = data['from'].apply(lambda x: x + datetime.timedelta(hours=1))\n",
    "    data['time'] = data['from'].apply(lambda x: datetime.datetime.time(x))\n",
    "    return data"
   ]
  },
  {
   "cell_type": "code",
   "execution_count": null,
   "metadata": {},
   "outputs": [],
   "source": [
    "def generate_time_table(data, interval=3600):\n",
    "    start = min(data['from'])\n",
    "    end = max(data['to'])\n",
    "    from_time = generate_from(start, end, interval)\n",
    "    to_time =  generate_to(start, end, interval)\n",
    "    time_table = pd.concat([from_time, to_time], axis=1)\n",
    "    time_table['date'] = time_table['from'].apply(lambda x: datetime.datetime.date(x))\n",
    "    if interval==3600:\n",
    "        time_table['time'] = time_table['from'].apply(lambda x: datetime.datetime.time(x))\n",
    "    time_table['day of week'] = time_table['date'].apply(lambda x: calendar.day_name[x.weekday()])\n",
    "    return time_table"
   ]
  },
  {
   "cell_type": "code",
   "execution_count": null,
   "metadata": {},
   "outputs": [],
   "source": [
    "def generate_gap(time_template, time):\n",
    "    temp_list = list(time['from'])\n",
    "    time_template['gap'] = time_template['from'].apply(lambda x: False if x in temp_list else True)\n",
    "    return time_template"
   ]
  },
  {
   "cell_type": "code",
   "execution_count": null,
   "metadata": {},
   "outputs": [],
   "source": [
    "def generate_activities_count(data, time_table, all_flag=True, method='day of week'):\n",
    "    if all_flag:\n",
    "        if method=='daily':\n",
    "            activities = pd.DataFrame(data.groupby(['date', 'day of week']).size())\n",
    "            activities.columns = ['all daily count']\n",
    "        elif method=='hourly':\n",
    "            activities = pd.DataFrame(data.groupby(['from']).size())\n",
    "            activities.columns = ['all hourly count']\n",
    "            activities = time_table.merge(activities, on=['from'], how='left').fillna(0)\n",
    "        else:\n",
    "            activities = pd.DataFrame(data.groupby(['day of week']).size())\n",
    "            activities.columns = ['all day of week count']\n",
    "    else:\n",
    "        if method=='daily':\n",
    "            activities = pd.DataFrame(data.groupby(['name', 'date', 'day of week']).size())\n",
    "            activities.columns = ['ind daily count']\n",
    "        elif method=='hourly':\n",
    "            activities = pd.DataFrame(data.groupby(['name', 'from']).size())\n",
    "            activities.columns = ['ind hourly count']\n",
    "#             activities = time_table.merge(activities, on=['from'], how='left').fillna(0)\n",
    "        else:\n",
    "            activities = pd.DataFrame(data.groupby(['name', 'day of week']).size())\n",
    "            activities.columns = ['ind day of week count']\n",
    "    return activities"
   ]
  },
  {
   "cell_type": "code",
   "execution_count": null,
   "metadata": {},
   "outputs": [],
   "source": [
    "def run_data_processing(filename, write_data=True):\n",
    "    filename = 'raw_data.xlsx'\n",
    "    data = read_data(filename)\n",
    "    data = generate_fields(data)\n",
    "    hour_table = generate_time_table(data)\n",
    "    hour_table = generate_gap(hour_table, data)\n",
    "    date_table = generate_time_table(data, interval=3600*24)\n",
    "\n",
    "    all_day_of_week_activities = generate_activities_count(data, hour_table, all_flag=True, method='day of week')\n",
    "    all_daily_activities = generate_activities_count(data, date_table, all_flag=True, method='daily')\n",
    "    all_hourly_activities = generate_activities_count(data, hour_table, all_flag=True, method='hourly')\n",
    "    \n",
    "    ind_day_of_week_activities = generate_activities_count(data, hour_table, all_flag=False, method='day of week')\n",
    "    ind_daily_activities = generate_activities_count(data, date_table, all_flag=False, method='daily')\n",
    "    ind_hourly_activities = generate_activities_count(data, hour_table, all_flag=False, method='hourly')\n",
    "    \n",
    "    if write_data:\n",
    "        with pd.ExcelWriter('processed_data.xlsx') as writer:\n",
    "            data.to_excel(writer, sheet_name='data', index=False)\n",
    "            hour_table.to_excel(writer, sheet_name='hour_table', index=False)\n",
    "            date_table.to_excel(writer, sheet_name='date_table', index=False)\n",
    "            \n",
    "            all_day_of_week_activities.to_excel(writer, sheet_name='all_day_of_week_activities')\n",
    "            all_daily_activities.to_excel(writer, sheet_name='all_daily_activities')\n",
    "            all_hourly_activities.to_excel(writer, sheet_name='all_hourly_activities', index=False)\n",
    "            \n",
    "            ind_day_of_week_activities.to_excel(writer, sheet_name='ind_day_of_week_activities')\n",
    "            ind_daily_activities.to_excel(writer, sheet_name='ind_daily_activities')\n",
    "            ind_hourly_activities.to_excel(writer, sheet_name='ind_hourly_activities')            "
   ]
  },
  {
   "cell_type": "markdown",
   "metadata": {},
   "source": [
    "#### run scripts"
   ]
  },
  {
   "cell_type": "code",
   "execution_count": null,
   "metadata": {},
   "outputs": [],
   "source": [
    "filename = 'raw_data.xlsx'\n",
    "run_data_processing(filename, write_data=True)"
   ]
  },
  {
   "cell_type": "code",
   "execution_count": null,
   "metadata": {},
   "outputs": [],
   "source": [
    "# filename = 'raw_data.xlsx'\n",
    "# data = read_data(filename)\n",
    "# data = generate_fields(data)\n",
    "# hour_table = generate_time_table(data)\n",
    "# hour_table = generate_gap(hour_table, data)\n",
    "# date_table = generate_time_table(data, interval=3600*24)\n",
    "\n",
    "# all_day_of_week_activities = generate_activities_count(data, hour_table, all_flag=True, method='day of week')\n",
    "# all_daily_activities = generate_activities_count(data, date_table, all_flag=True, method='daily')\n",
    "# all_hourly_activities = generate_activities_count(data, hour_table, all_flag=True, method='hourly')\n",
    "\n",
    "# ind_day_of_week_activities = generate_activities_count(data, hour_table, all_flag=False, method='day of week')\n",
    "# ind_daily_activities = generate_activities_count(data, date_table, all_flag=False, method='daily')\n",
    "# ind_hourly_activities = generate_activities_count(data, hour_table, all_flag=False, method='hourly')"
   ]
  },
  {
   "cell_type": "code",
   "execution_count": null,
   "metadata": {},
   "outputs": [],
   "source": []
  }
 ],
 "metadata": {
  "kernelspec": {
   "display_name": "Python 3",
   "language": "python",
   "name": "python3"
  },
  "language_info": {
   "codemirror_mode": {
    "name": "ipython",
    "version": 3
   },
   "file_extension": ".py",
   "mimetype": "text/x-python",
   "name": "python",
   "nbconvert_exporter": "python",
   "pygments_lexer": "ipython3",
   "version": "3.7.7"
  }
 },
 "nbformat": 4,
 "nbformat_minor": 4
}
