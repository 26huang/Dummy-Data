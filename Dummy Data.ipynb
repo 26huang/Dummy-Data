{
 "cells": [
  {
   "cell_type": "code",
   "execution_count": 1,
   "metadata": {},
   "outputs": [],
   "source": [
    "import pandas as pd\n",
    "import datetime\n",
    "import random\n",
    "import names"
   ]
  },
  {
   "cell_type": "code",
   "execution_count": 2,
   "metadata": {},
   "outputs": [],
   "source": [
    "def random_date(start, end):\n",
    "    random_seconds = random.randint(0, int((end - start).total_seconds()))\n",
    "    return start + datetime.timedelta(seconds=random_seconds)\n",
    "\n",
    "def generate_from(start, end, interval=3600):\n",
    "    interval_num = int((end-start).total_seconds()/interval)\n",
    "    return pd.DataFrame({'From Time': [start+datetime.timedelta(seconds=i*interval) for i in range(interval_num)]})\n",
    "\n",
    "def generate_to(start, end, interval=3600):\n",
    "    interval_num = int((end-start).total_seconds()/interval)\n",
    "    return pd.DataFrame({'To Time': [start+datetime.timedelta(seconds=(i+1)*interval) for i in range(interval_num)]})"
   ]
  },
  {
   "cell_type": "code",
   "execution_count": 3,
   "metadata": {},
   "outputs": [],
   "source": [
    "def generate_employee(start, end, n):\n",
    "    name = [names.get_full_name()]*n\n",
    "    active = [random_date(start, end) for i in range(n)]\n",
    "    df = pd.DataFrame({'name': name, 'active': active}).sort_values(by='active', ignore_index=True)\n",
    "    df['from'] = df['active'].apply(lambda x: x.replace(minute=0, second=0))\n",
    "    df['to'] = df['from'].apply(lambda x: x + datetime.timedelta(hours=1))\n",
    "    return df\n",
    "\n",
    "def generate_workforce(start, end, num_employees=10, min=1, max=11):\n",
    "    data = pd.DataFrame()\n",
    "    for i in range(num_employees):\n",
    "        data = data.append(generate_employee(start, end, random.randint(min, max)), ignore_index=True)\n",
    "    return data"
   ]
  },
  {
   "cell_type": "code",
   "execution_count": 21,
   "metadata": {},
   "outputs": [],
   "source": [
    "start_input = \"9/1/2020 12:00 AM\"\n",
    "end_input = \"10/1/2020 12:00 AM\"\n",
    "format = '%m/%d/%Y %I:%M %p'\n",
    "start = datetime.datetime.strptime(start_input, format)\n",
    "end = datetime.datetime.strptime(end_input, format)"
   ]
  },
  {
   "cell_type": "code",
   "execution_count": 29,
   "metadata": {},
   "outputs": [],
   "source": [
    "data = generate_workforce(start, end, num_employees=5, min=90, max=150)"
   ]
  },
  {
   "cell_type": "code",
   "execution_count": 30,
   "metadata": {},
   "outputs": [
    {
     "data": {
      "text/plain": [
       "570"
      ]
     },
     "execution_count": 30,
     "metadata": {},
     "output_type": "execute_result"
    }
   ],
   "source": [
    "len(data)"
   ]
  },
  {
   "cell_type": "code",
   "execution_count": 31,
   "metadata": {},
   "outputs": [],
   "source": [
    "data.drop_duplicates(['name', 'from'], inplace=True)"
   ]
  },
  {
   "cell_type": "code",
   "execution_count": 85,
   "metadata": {},
   "outputs": [
    {
     "data": {
      "text/html": [
       "<div>\n",
       "<style scoped>\n",
       "    .dataframe tbody tr th:only-of-type {\n",
       "        vertical-align: middle;\n",
       "    }\n",
       "\n",
       "    .dataframe tbody tr th {\n",
       "        vertical-align: top;\n",
       "    }\n",
       "\n",
       "    .dataframe thead th {\n",
       "        text-align: right;\n",
       "    }\n",
       "</style>\n",
       "<table border=\"1\" class=\"dataframe\">\n",
       "  <thead>\n",
       "    <tr style=\"text-align: right;\">\n",
       "      <th></th>\n",
       "      <th>name</th>\n",
       "      <th>active</th>\n",
       "      <th>from</th>\n",
       "      <th>to</th>\n",
       "    </tr>\n",
       "  </thead>\n",
       "  <tbody>\n",
       "    <tr>\n",
       "      <th>0</th>\n",
       "      <td>Antwan Bourgeois</td>\n",
       "      <td>2020-09-01 22:44:43</td>\n",
       "      <td>2020-09-01 22:00:00</td>\n",
       "      <td>2020-09-01 23:00:00</td>\n",
       "    </tr>\n",
       "    <tr>\n",
       "      <th>1</th>\n",
       "      <td>Antwan Bourgeois</td>\n",
       "      <td>2020-09-02 00:45:07</td>\n",
       "      <td>2020-09-02 00:00:00</td>\n",
       "      <td>2020-09-02 01:00:00</td>\n",
       "    </tr>\n",
       "    <tr>\n",
       "      <th>2</th>\n",
       "      <td>Antwan Bourgeois</td>\n",
       "      <td>2020-09-02 05:47:58</td>\n",
       "      <td>2020-09-02 05:00:00</td>\n",
       "      <td>2020-09-02 06:00:00</td>\n",
       "    </tr>\n",
       "    <tr>\n",
       "      <th>3</th>\n",
       "      <td>Antwan Bourgeois</td>\n",
       "      <td>2020-09-02 06:30:54</td>\n",
       "      <td>2020-09-02 06:00:00</td>\n",
       "      <td>2020-09-02 07:00:00</td>\n",
       "    </tr>\n",
       "    <tr>\n",
       "      <th>4</th>\n",
       "      <td>Antwan Bourgeois</td>\n",
       "      <td>2020-09-02 13:56:10</td>\n",
       "      <td>2020-09-02 13:00:00</td>\n",
       "      <td>2020-09-02 14:00:00</td>\n",
       "    </tr>\n",
       "    <tr>\n",
       "      <th>...</th>\n",
       "      <td>...</td>\n",
       "      <td>...</td>\n",
       "      <td>...</td>\n",
       "      <td>...</td>\n",
       "    </tr>\n",
       "    <tr>\n",
       "      <th>565</th>\n",
       "      <td>Frances Herlocker</td>\n",
       "      <td>2020-09-30 00:34:07</td>\n",
       "      <td>2020-09-30 00:00:00</td>\n",
       "      <td>2020-09-30 01:00:00</td>\n",
       "    </tr>\n",
       "    <tr>\n",
       "      <th>566</th>\n",
       "      <td>Frances Herlocker</td>\n",
       "      <td>2020-09-30 01:02:38</td>\n",
       "      <td>2020-09-30 01:00:00</td>\n",
       "      <td>2020-09-30 02:00:00</td>\n",
       "    </tr>\n",
       "    <tr>\n",
       "      <th>567</th>\n",
       "      <td>Frances Herlocker</td>\n",
       "      <td>2020-09-30 10:02:41</td>\n",
       "      <td>2020-09-30 10:00:00</td>\n",
       "      <td>2020-09-30 11:00:00</td>\n",
       "    </tr>\n",
       "    <tr>\n",
       "      <th>568</th>\n",
       "      <td>Frances Herlocker</td>\n",
       "      <td>2020-09-30 14:21:18</td>\n",
       "      <td>2020-09-30 14:00:00</td>\n",
       "      <td>2020-09-30 15:00:00</td>\n",
       "    </tr>\n",
       "    <tr>\n",
       "      <th>569</th>\n",
       "      <td>Frances Herlocker</td>\n",
       "      <td>2020-09-30 18:24:31</td>\n",
       "      <td>2020-09-30 18:00:00</td>\n",
       "      <td>2020-09-30 19:00:00</td>\n",
       "    </tr>\n",
       "  </tbody>\n",
       "</table>\n",
       "<p>533 rows × 4 columns</p>\n",
       "</div>"
      ],
      "text/plain": [
       "                  name              active                from  \\\n",
       "0     Antwan Bourgeois 2020-09-01 22:44:43 2020-09-01 22:00:00   \n",
       "1     Antwan Bourgeois 2020-09-02 00:45:07 2020-09-02 00:00:00   \n",
       "2     Antwan Bourgeois 2020-09-02 05:47:58 2020-09-02 05:00:00   \n",
       "3     Antwan Bourgeois 2020-09-02 06:30:54 2020-09-02 06:00:00   \n",
       "4     Antwan Bourgeois 2020-09-02 13:56:10 2020-09-02 13:00:00   \n",
       "..                 ...                 ...                 ...   \n",
       "565  Frances Herlocker 2020-09-30 00:34:07 2020-09-30 00:00:00   \n",
       "566  Frances Herlocker 2020-09-30 01:02:38 2020-09-30 01:00:00   \n",
       "567  Frances Herlocker 2020-09-30 10:02:41 2020-09-30 10:00:00   \n",
       "568  Frances Herlocker 2020-09-30 14:21:18 2020-09-30 14:00:00   \n",
       "569  Frances Herlocker 2020-09-30 18:24:31 2020-09-30 18:00:00   \n",
       "\n",
       "                     to  \n",
       "0   2020-09-01 23:00:00  \n",
       "1   2020-09-02 01:00:00  \n",
       "2   2020-09-02 06:00:00  \n",
       "3   2020-09-02 07:00:00  \n",
       "4   2020-09-02 14:00:00  \n",
       "..                  ...  \n",
       "565 2020-09-30 01:00:00  \n",
       "566 2020-09-30 02:00:00  \n",
       "567 2020-09-30 11:00:00  \n",
       "568 2020-09-30 15:00:00  \n",
       "569 2020-09-30 19:00:00  \n",
       "\n",
       "[533 rows x 4 columns]"
      ]
     },
     "execution_count": 85,
     "metadata": {},
     "output_type": "execute_result"
    }
   ],
   "source": [
    "data"
   ]
  },
  {
   "cell_type": "code",
   "execution_count": 33,
   "metadata": {},
   "outputs": [],
   "source": [
    "data.to_excel('Dummy_data.xlsx')"
   ]
  },
  {
   "cell_type": "code",
   "execution_count": 98,
   "metadata": {},
   "outputs": [],
   "source": [
    "def create_window(start, end, interval=3600):\n",
    "    interval_num = int((end-start).total_seconds()/interval)\n",
    "    return [start+datetime.timedelta(seconds=i*interval) for i in range(interval_num+1)]"
   ]
  },
  {
   "cell_type": "code",
   "execution_count": 91,
   "metadata": {},
   "outputs": [],
   "source": [
    "start_input = \"9/1/2020 12:00 AM\"\n",
    "end_input = \"9/1/2020 10:00 PM\"\n",
    "format = '%m/%d/%Y %I:%M %p'\n",
    "start = datetime.datetime.strptime(start_input, format)\n",
    "end = datetime.datetime.strptime(end_input, format)"
   ]
  },
  {
   "cell_type": "code",
   "execution_count": 99,
   "metadata": {
    "scrolled": true
   },
   "outputs": [],
   "source": [
    "window = create_window(start, end)"
   ]
  },
  {
   "cell_type": "code",
   "execution_count": 100,
   "metadata": {},
   "outputs": [
    {
     "data": {
      "text/plain": [
       "[datetime.datetime(2020, 9, 1, 0, 0),\n",
       " datetime.datetime(2020, 9, 1, 1, 0),\n",
       " datetime.datetime(2020, 9, 1, 2, 0),\n",
       " datetime.datetime(2020, 9, 1, 3, 0),\n",
       " datetime.datetime(2020, 9, 1, 4, 0),\n",
       " datetime.datetime(2020, 9, 1, 5, 0),\n",
       " datetime.datetime(2020, 9, 1, 6, 0),\n",
       " datetime.datetime(2020, 9, 1, 7, 0),\n",
       " datetime.datetime(2020, 9, 1, 8, 0),\n",
       " datetime.datetime(2020, 9, 1, 9, 0),\n",
       " datetime.datetime(2020, 9, 1, 10, 0),\n",
       " datetime.datetime(2020, 9, 1, 11, 0),\n",
       " datetime.datetime(2020, 9, 1, 12, 0),\n",
       " datetime.datetime(2020, 9, 1, 13, 0),\n",
       " datetime.datetime(2020, 9, 1, 14, 0),\n",
       " datetime.datetime(2020, 9, 1, 15, 0),\n",
       " datetime.datetime(2020, 9, 1, 16, 0),\n",
       " datetime.datetime(2020, 9, 1, 17, 0),\n",
       " datetime.datetime(2020, 9, 1, 18, 0),\n",
       " datetime.datetime(2020, 9, 1, 19, 0),\n",
       " datetime.datetime(2020, 9, 1, 20, 0),\n",
       " datetime.datetime(2020, 9, 1, 21, 0),\n",
       " datetime.datetime(2020, 9, 1, 22, 0)]"
      ]
     },
     "execution_count": 100,
     "metadata": {},
     "output_type": "execute_result"
    }
   ],
   "source": [
    "window"
   ]
  },
  {
   "cell_type": "code",
   "execution_count": 96,
   "metadata": {},
   "outputs": [
    {
     "data": {
      "text/plain": [
       "0     2020-09-01 22:00:00\n",
       "1     2020-09-02 00:00:00\n",
       "2     2020-09-02 05:00:00\n",
       "3     2020-09-02 06:00:00\n",
       "4     2020-09-02 13:00:00\n",
       "              ...        \n",
       "565   2020-09-30 00:00:00\n",
       "566   2020-09-30 01:00:00\n",
       "567   2020-09-30 10:00:00\n",
       "568   2020-09-30 14:00:00\n",
       "569   2020-09-30 18:00:00\n",
       "Name: from, Length: 533, dtype: datetime64[ns]"
      ]
     },
     "execution_count": 96,
     "metadata": {},
     "output_type": "execute_result"
    }
   ],
   "source": [
    "data['from']"
   ]
  },
  {
   "cell_type": "code",
   "execution_count": 101,
   "metadata": {},
   "outputs": [],
   "source": [
    "test = data['from'].apply(lambda x: True if x in window else False)"
   ]
  },
  {
   "cell_type": "code",
   "execution_count": 102,
   "metadata": {},
   "outputs": [
    {
     "data": {
      "text/plain": [
       "0       True\n",
       "1      False\n",
       "2      False\n",
       "3      False\n",
       "4      False\n",
       "       ...  \n",
       "565    False\n",
       "566    False\n",
       "567    False\n",
       "568    False\n",
       "569    False\n",
       "Name: from, Length: 533, dtype: bool"
      ]
     },
     "execution_count": 102,
     "metadata": {},
     "output_type": "execute_result"
    }
   ],
   "source": [
    "test"
   ]
  },
  {
   "cell_type": "code",
   "execution_count": null,
   "metadata": {},
   "outputs": [],
   "source": []
  },
  {
   "cell_type": "code",
   "execution_count": null,
   "metadata": {},
   "outputs": [],
   "source": []
  },
  {
   "cell_type": "code",
   "execution_count": 49,
   "metadata": {},
   "outputs": [],
   "source": [
    "a = pd.DataFrame({'name': ['a', 'b']})\n",
    "b = pd.DataFrame({'name': ['c', 'd']})"
   ]
  },
  {
   "cell_type": "code",
   "execution_count": 50,
   "metadata": {},
   "outputs": [],
   "source": [
    "c = a.append(b)"
   ]
  },
  {
   "cell_type": "code",
   "execution_count": 51,
   "metadata": {},
   "outputs": [
    {
     "data": {
      "text/html": [
       "<div>\n",
       "<style scoped>\n",
       "    .dataframe tbody tr th:only-of-type {\n",
       "        vertical-align: middle;\n",
       "    }\n",
       "\n",
       "    .dataframe tbody tr th {\n",
       "        vertical-align: top;\n",
       "    }\n",
       "\n",
       "    .dataframe thead th {\n",
       "        text-align: right;\n",
       "    }\n",
       "</style>\n",
       "<table border=\"1\" class=\"dataframe\">\n",
       "  <thead>\n",
       "    <tr style=\"text-align: right;\">\n",
       "      <th></th>\n",
       "      <th>name</th>\n",
       "    </tr>\n",
       "  </thead>\n",
       "  <tbody>\n",
       "    <tr>\n",
       "      <th>0</th>\n",
       "      <td>a</td>\n",
       "    </tr>\n",
       "    <tr>\n",
       "      <th>1</th>\n",
       "      <td>b</td>\n",
       "    </tr>\n",
       "    <tr>\n",
       "      <th>2</th>\n",
       "      <td>c</td>\n",
       "    </tr>\n",
       "    <tr>\n",
       "      <th>3</th>\n",
       "      <td>d</td>\n",
       "    </tr>\n",
       "  </tbody>\n",
       "</table>\n",
       "</div>"
      ],
      "text/plain": [
       "  name\n",
       "0    a\n",
       "1    b\n",
       "2    c\n",
       "3    d"
      ]
     },
     "execution_count": 51,
     "metadata": {},
     "output_type": "execute_result"
    }
   ],
   "source": [
    "c.reset_index(drop=True)"
   ]
  },
  {
   "cell_type": "code",
   "execution_count": null,
   "metadata": {},
   "outputs": [],
   "source": []
  }
 ],
 "metadata": {
  "kernelspec": {
   "display_name": "Python 3",
   "language": "python",
   "name": "python3"
  },
  "language_info": {
   "codemirror_mode": {
    "name": "ipython",
    "version": 3
   },
   "file_extension": ".py",
   "mimetype": "text/x-python",
   "name": "python",
   "nbconvert_exporter": "python",
   "pygments_lexer": "ipython3",
   "version": "3.8.5"
  }
 },
 "nbformat": 4,
 "nbformat_minor": 4
}
