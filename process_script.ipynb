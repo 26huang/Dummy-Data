{
 "cells": [
  {
   "cell_type": "code",
   "execution_count": 1,
   "metadata": {},
   "outputs": [],
   "source": [
    "import pandas as pd\n",
    "import datetime\n",
    "import calendar"
   ]
  },
  {
   "cell_type": "markdown",
   "metadata": {},
   "source": [
    "#### Process data from file"
   ]
  },
  {
   "cell_type": "code",
   "execution_count": 2,
   "metadata": {},
   "outputs": [],
   "source": [
    "def read_data(filename):\n",
    "    return pd.read_excel(filename)"
   ]
  },
  {
   "cell_type": "code",
   "execution_count": 3,
   "metadata": {},
   "outputs": [],
   "source": [
    "def generate_from(start, end, interval=3600):\n",
    "    interval_num = int((end-start).total_seconds()/interval)\n",
    "    return pd.DataFrame({'From Time': [start+datetime.timedelta(seconds=i*interval) for i in range(interval_num)]})"
   ]
  },
  {
   "cell_type": "code",
   "execution_count": 4,
   "metadata": {},
   "outputs": [],
   "source": [
    "def generate_fields(data):\n",
    "    data['date'] = data['active'].apply(lambda x: datetime.datetime.date(x))\n",
    "    data['time'] = data['active'].apply(lambda x: datetime.datetime.time(x))\n",
    "    data['day of week'] = data['date'].apply(lambda x: calendar.day_name[x.weekday()])\n",
    "    data['from'] = data['active'].apply(lambda x: x.replace(minute=0, second=0))\n",
    "    data['to'] = data['from'].apply(lambda x: x + datetime.timedelta(hours=1))\n",
    "    return data"
   ]
  },
  {
   "cell_type": "code",
   "execution_count": 5,
   "metadata": {},
   "outputs": [],
   "source": [
    "def generate_from(start, end, interval=3600):\n",
    "    interval_num = int((end-start).total_seconds()/interval)\n",
    "    return pd.DataFrame({'from': [start+datetime.timedelta(seconds=i*interval) for i in range(interval_num)]})\n",
    "\n",
    "def generate_to(start, end, interval=3600):\n",
    "    interval_num = int((end-start).total_seconds()/interval)\n",
    "    return pd.DataFrame({'to': [start+datetime.timedelta(seconds=(i+1)*interval) for i in range(interval_num)]})"
   ]
  },
  {
   "cell_type": "code",
   "execution_count": 6,
   "metadata": {},
   "outputs": [],
   "source": [
    "def generate_time_table(data, interval=3600):\n",
    "    start = min(data['from'])\n",
    "    end = max(data['to'])\n",
    "    interval_num = int((end-start).total_seconds()/interval)\n",
    "    from_time = pd.DataFrame({'from': [start+datetime.timedelta(seconds=i*interval) for i in range(interval_num)]})\n",
    "    to_time =  pd.DataFrame({'to': [start+datetime.timedelta(seconds=(i+1)*interval) for i in range(interval_num)]})\n",
    "    time_table = pd.concat([from_time, to_time], axis=1)\n",
    "    time_table['date'] = time_table['from'].apply(lambda x: datetime.datetime.date(x))\n",
    "    time_table['time'] = time_table['from'].apply(lambda x: datetime.datetime.time(x))\n",
    "    time_table['day of week'] = time_table['date'].apply(lambda x: calendar.day_name[x.weekday()])\n",
    "    return time_table"
   ]
  },
  {
   "cell_type": "code",
   "execution_count": 7,
   "metadata": {},
   "outputs": [],
   "source": [
    "def generate_gap(time_template, time):\n",
    "    temp_list = list(time['from'])\n",
    "    time_template['gap'] = time_template['from'].apply(lambda x: False if x in temp_list else True)\n",
    "    return time_template"
   ]
  },
  {
   "cell_type": "code",
   "execution_count": 8,
   "metadata": {},
   "outputs": [],
   "source": [
    "def generate_activities_count(data, all_flag=True, daily=True):\n",
    "    if all_flag:\n",
    "        if daily:\n",
    "            activities = pd.DataFrame(data.groupby(['date', 'day of week']).size())\n",
    "            activities.columns = ['all daily count']\n",
    "        else:\n",
    "            activities = pd.DataFrame(data.groupby(['from']).size())\n",
    "            activities.columns = ['all hourly count']\n",
    "    else:\n",
    "        if daily:\n",
    "            activities = pd.DataFrame(data.groupby(['name', 'date', 'day of week']).size())\n",
    "            activities.columns=['ind daily count']\n",
    "        else:\n",
    "            activities = pd.DataFrame(data.groupby(['name', 'from']).size())\n",
    "            activities.columns = ['all hourly count']\n",
    "    return activities"
   ]
  },
  {
   "cell_type": "code",
   "execution_count": 9,
   "metadata": {},
   "outputs": [],
   "source": [
    "def run_data_processing(filename, write_data=False):\n",
    "    data = read_data(filename)\n",
    "    data = generate_fields(data)\n",
    "    hour_table = generate_time_table(data)\n",
    "    hour_table = generate_gap(hour_table, data)\n",
    "    date_table = generate_time_table(data, interval=3600*24)\n",
    "    all_daily_activities = generate_activities_count(data, all_flag=True, daily=True)\n",
    "    ind_daily_activities = generate_activities_count(data, all_flag=False, daily=True)\n",
    "    all_hourly_activities = generate_activities_count(data, all_flag=True, daily=False)\n",
    "    ind_hourly_activities = generate_activities_count(data, all_flag=False, daily=False)\n",
    "\n",
    "    if write_data:\n",
    "        with pd.ExcelWriter('processed_data.xlsx') as writer:\n",
    "            data.to_excel(writer, sheet_name='data', index=False)\n",
    "            hour_table.to_excel(writer, sheet_name='hour_table', index=False)\n",
    "            date_table.to_excel(writer, sheet_name='date_table', index=False)\n",
    "            all_daily_activities.to_excel(writer, sheet_name='all_daily_activities')\n",
    "            ind_daily_activities.to_excel(writer, sheet_name='ind_daily_activities')\n",
    "            all_hourly_activities.to_excel(writer, sheet_name='all_hourly_activities')\n",
    "            ind_hourly_activities.to_excel(writer, sheet_name='ind_hourly_activities') "
   ]
  },
  {
   "cell_type": "code",
   "execution_count": 10,
   "metadata": {},
   "outputs": [],
   "source": [
    "# start_input = \"9/1/2020 12:00 AM\"\n",
    "# end_input = \"10/1/2020 12:00 AM\"\n",
    "# format = '%m/%d/%Y %I:%M %p'\n",
    "# start = datetime.datetime.strptime(start_input, format)\n",
    "# end = datetime.datetime.strptime(end_input, format)"
   ]
  },
  {
   "cell_type": "markdown",
   "metadata": {},
   "source": [
    "#### Test Script"
   ]
  },
  {
   "cell_type": "code",
   "execution_count": 11,
   "metadata": {
    "scrolled": false
   },
   "outputs": [],
   "source": [
    "filename = 'raw_data.xlsx'\n",
    "run_data_processing(filename, write_data=True)"
   ]
  },
  {
   "cell_type": "code",
   "execution_count": 12,
   "metadata": {},
   "outputs": [],
   "source": [
    "# data = read_data(filename)\n",
    "# data = generate_fields(data)\n",
    "# hour_table = generate_time_table(data)\n",
    "# hour_table = generate_gap(hour_table, data)\n",
    "# date_table = generate_time_table(data, interval=3600*24)\n",
    "# all_daily_activities = generate_activities_count(data, all_flag=True)\n",
    "# ind_daily_activities = generate_activities_count(data, all_flag=False)"
   ]
  },
  {
   "cell_type": "code",
   "execution_count": null,
   "metadata": {},
   "outputs": [],
   "source": []
  }
 ],
 "metadata": {
  "kernelspec": {
   "display_name": "Python 3",
   "language": "python",
   "name": "python3"
  },
  "language_info": {
   "codemirror_mode": {
    "name": "ipython",
    "version": 3
   },
   "file_extension": ".py",
   "mimetype": "text/x-python",
   "name": "python",
   "nbconvert_exporter": "python",
   "pygments_lexer": "ipython3",
   "version": "3.8.5"
  }
 },
 "nbformat": 4,
 "nbformat_minor": 4
}
