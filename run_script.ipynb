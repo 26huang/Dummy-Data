{
 "cells": [
  {
   "cell_type": "code",
   "execution_count": 1,
   "metadata": {},
   "outputs": [],
   "source": [
    "import pandas as pd\n",
    "import datetime\n",
    "import calendar"
   ]
  },
  {
   "cell_type": "code",
   "execution_count": 3,
   "metadata": {},
   "outputs": [],
   "source": [
    "def read_data(filename):\n",
    "    return pd.read_excel(filename)"
   ]
  },
  {
   "cell_type": "code",
   "execution_count": 4,
   "metadata": {},
   "outputs": [],
   "source": [
    "def generate_from(start, end, interval=3600):\n",
    "    interval_num = int((end-start).total_seconds()/interval)\n",
    "    return pd.DataFrame({'From Time': [start+datetime.timedelta(seconds=i*interval) for i in range(interval_num)]})"
   ]
  },
  {
   "cell_type": "code",
   "execution_count": 5,
   "metadata": {},
   "outputs": [],
   "source": [
    "def generate_fields(data):\n",
    "    data['date'] = data['active'].apply(lambda x: datetime.datetime.date(x))\n",
    "    data['time'] = data['active'].apply(lambda x: datetime.datetime.time(x))\n",
    "    data['day of week'] = data['date'].apply(lambda x: calendar.day_name[x.weekday()])\n",
    "    data['from'] = data['active'].apply(lambda x: x.replace(minute=0, second=0))\n",
    "    data['to'] = data['from'].apply(lambda x: x + datetime.timedelta(hours=1))\n",
    "    return data"
   ]
  },
  {
   "cell_type": "code",
   "execution_count": 6,
   "metadata": {},
   "outputs": [],
   "source": [
    "def generate_activities_count(all_flag=True):\n",
    "    if all_flag:\n",
    "        activities = pd.DataFrame(data.groupby(['date']).size())\n",
    "        activities.columns = ['all count']\n",
    "    else:\n",
    "        activities = pd.DataFrame(data.groupby(['name', 'date']).size())\n",
    "        activities.columns=['ind count']\n",
    "    return activities"
   ]
  },
  {
   "cell_type": "code",
   "execution_count": 7,
   "metadata": {},
   "outputs": [],
   "source": [
    "def generate_from(start, end, interval=3600):\n",
    "    interval_num = int((end-start).total_seconds()/interval)\n",
    "    return pd.DataFrame({'From Time': [start+datetime.timedelta(seconds=i*interval) for i in range(interval_num)]})\n",
    "\n",
    "def generate_to(start, end, interval=3600):\n",
    "    interval_num = int((end-start).total_seconds()/interval)\n",
    "    return pd.DataFrame({'To Time': [start+datetime.timedelta(seconds=(i+1)*interval) for i in range(interval_num)]})"
   ]
  },
  {
   "cell_type": "code",
   "execution_count": 8,
   "metadata": {},
   "outputs": [],
   "source": [
    "def generate_time_template(data, interval=3600):\n",
    "    start = min(data['from'])\n",
    "    end = max(data['to'])\n",
    "    interval_num = int((end-start).total_seconds()/interval)\n",
    "    from_time = pd.DataFrame({'From Time': [start+datetime.timedelta(seconds=i*interval) for i in range(interval_num)]})\n",
    "    to_time =  pd.DataFrame({'To Time': [start+datetime.timedelta(seconds=(i+1)*interval) for i in range(interval_num)]})\n",
    "    return pd.concat([from_time, to_time], axis=1)"
   ]
  },
  {
   "cell_type": "code",
   "execution_count": null,
   "metadata": {},
   "outputs": [],
   "source": [
    "def generate_gap(time_template, )"
   ]
  },
  {
   "cell_type": "code",
   "execution_count": 25,
   "metadata": {},
   "outputs": [],
   "source": [
    "def run(filename):\n",
    "    data = read_data(filename)\n",
    "    data = generate_fields(data)\n",
    "    all_activities = generate_activities_count(all_flag=True)\n",
    "    all_activities.columns = ['all count']\n",
    "    ind_activities = generate_activities_count(all_flag=False)\n",
    "    ind_activities.columns = ['ind count']\n",
    "    time_table = generate_time_template(data)\n",
    "    \n",
    "    data.to_excel('processed_data.xlsx', index=False)\n",
    "    all_activities.to_excel('all_activities.xlsx')\n",
    "    ind_activities.to_excel('ind_activities.xlsx')\n",
    "    time_table.to_excel('time_table.xlsx', index=False)\n",
    "    return"
   ]
  },
  {
   "cell_type": "code",
   "execution_count": 2,
   "metadata": {},
   "outputs": [],
   "source": [
    "filename = 'Dummy_data.xlsx'\n",
    "start_input = \"9/1/2020 12:00 AM\"\n",
    "end_input = \"10/1/2020 12:00 AM\"\n",
    "format = '%m/%d/%Y %I:%M %p'\n",
    "start = datetime.datetime.strptime(start_input, format)\n",
    "end = datetime.datetime.strptime(end_input, format)"
   ]
  },
  {
   "cell_type": "code",
   "execution_count": 26,
   "metadata": {},
   "outputs": [],
   "source": [
    "run(filename)"
   ]
  }
 ],
 "metadata": {
  "kernelspec": {
   "display_name": "Python 3",
   "language": "python",
   "name": "python3"
  },
  "language_info": {
   "codemirror_mode": {
    "name": "ipython",
    "version": 3
   },
   "file_extension": ".py",
   "mimetype": "text/x-python",
   "name": "python",
   "nbconvert_exporter": "python",
   "pygments_lexer": "ipython3",
   "version": "3.8.5"
  }
 },
 "nbformat": 4,
 "nbformat_minor": 4
}
