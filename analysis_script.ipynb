{
 "cells": [
  {
   "cell_type": "code",
   "execution_count": null,
   "metadata": {},
   "outputs": [],
   "source": [
    "import pandas as pd\n",
    "import datetime\n",
    "import calendar"
   ]
  },
  {
   "cell_type": "code",
   "execution_count": null,
   "metadata": {},
   "outputs": [],
   "source": [
    "def generate_weekday_count(data):\n",
    "    weekday_count = {}\n",
    "    for i in list(data['day of week']):\n",
    "        weekday_count[i] = 1 + weekday_count[i] if i in weekday_count else 1\n",
    "    return weekday_count"
   ]
  },
  {
   "cell_type": "code",
   "execution_count": null,
   "metadata": {},
   "outputs": [],
   "source": [
    "def generate_stats(activities_data, by='day of week'):\n",
    "    if by=='day of week':\n",
    "        results = activities_data.groupby(['day of week']).mean() \n",
    "        results.columns = ['avg']\n",
    "        results['std'] = activities_data.groupby(['day of week']).std() \n",
    "    else:\n",
    "        results = activities_data.groupby(['gap', 'time']).mean() \n",
    "        results.columns = ['avg']\n",
    "        results['std'] = activities_data.groupby(['gap', 'time']).std() \n",
    "        results.reset_index(inplace=True)\n",
    "        results = results[results['gap']==False]\n",
    "    results['avg+std'] = results['avg']+results['std']\n",
    "    results['avg-std'] = results['avg']-results['std']\n",
    "    results['avg+2std'] = results['avg']+2*results['std']\n",
    "    results['avg-2std'] = results['avg']-2*results['std']\n",
    "    results['avg+3std'] = results['avg']+3*results['std']\n",
    "    results['avg-3std'] = results['avg']-3*results['std']\n",
    "    results['avg-3std'] = results['avg-3std'].apply(lambda x: 0 if x <0 else x)\n",
    "    return results"
   ]
  },
  {
   "cell_type": "code",
   "execution_count": null,
   "metadata": {},
   "outputs": [],
   "source": [
    "def generate_score(activities_threshold):\n",
    "    results =  activities_threshold\n",
    "    results['>avg'] = results['all daily count'] >= results['avg']\n",
    "    results['<avg'] = results['>avg'].apply(lambda x: not x)\n",
    "    results['>avg+std'] = results['all daily count'] >= results['avg+std']\n",
    "    results['<avg-std'] = results['all daily count'] <= results['avg-std']\n",
    "    results['>avg+2std'] = results['all daily count'] >= results['avg+2std']\n",
    "    results['<avg-2std'] = results['all daily count'] <= results['avg-2std']\n",
    "    results['>avg+3std'] = results['all daily count'] >= results['avg+3std']\n",
    "    results['<avg-3std'] = results['all daily count'] <= results['avg-3std']\n",
    "    return results"
   ]
  },
  {
   "cell_type": "code",
   "execution_count": null,
   "metadata": {},
   "outputs": [],
   "source": [
    "def run_analysis(filename, write_data=False):\n",
    "    data = pd.read_excel(filename, sheet_name='data')\n",
    "    hour_table = pd.read_excel(filename, sheet_name='hour_table')\n",
    "    date_table = pd.read_excel(filename, sheet_name='date_table')\n",
    "    all_daily_activities = pd.read_excel(filename, sheet_name='all_daily_activities')\n",
    "    ind_daily_activities = pd.read_excel(filename, sheet_name='ind_daily_activities').fillna(method='ffill')\n",
    "    all_hourly_activities = pd.read_excel(filename, sheet_name='all_hourly_activities')\n",
    "    ind_hourly_activities = pd.read_excel(filename, sheet_name='ind_hourly_activities').fillna(method='ffill')\n",
    "    \n",
    "    all_day_of_week_stat = generate_stats(all_daily_activities, by='day of week')\n",
    "    std_thresholds = all_daily_activities.merge(all_day_of_week_stat, on=['day of week'], how='left')\n",
    "    threshold_detections = generate_score(std_thresholds)\n",
    "    \n",
    "    all_hourly_stat = generate_stats(all_hourly_activities, by='hourly')\n",
    "    \n",
    "    \n",
    "    if write_data:\n",
    "        with pd.ExcelWriter('analyzed_data.xlsx') as writer:\n",
    "            all_day_of_week_stat.to_excel(writer, sheet_name='all_day_of_week_stat')\n",
    "            all_hourly_stat.to_excel(writer, sheet_name='all_hourly_stat', index=False)\n",
    "            threshold_detections.to_excel(writer, sheet_name='detected_results', index=False)\n",
    "    return"
   ]
  },
  {
   "cell_type": "code",
   "execution_count": null,
   "metadata": {},
   "outputs": [],
   "source": [
    "filename = 'processed_data.xlsx'\n",
    "run_analysis(filename, write_data=True)"
   ]
  },
  {
   "cell_type": "markdown",
   "metadata": {},
   "source": [
    "#### Test Script"
   ]
  },
  {
   "cell_type": "code",
   "execution_count": null,
   "metadata": {},
   "outputs": [],
   "source": [
    "filename = 'processed_data.xlsx'\n",
    "data = pd.read_excel(filename, sheet_name='data')\n",
    "hour_table = pd.read_excel(filename, sheet_name='hour_table')\n",
    "date_table = pd.read_excel(filename, sheet_name='date_table')\n",
    "all_daily_activities = pd.read_excel(filename, sheet_name='all_daily_activities')\n",
    "ind_daily_activities = pd.read_excel(filename, sheet_name='ind_daily_activities').fillna(method='ffill')\n",
    "all_hourly_activities = pd.read_excel(filename, sheet_name='all_hourly_activities')\n",
    "ind_hourly_activities = pd.read_excel(filename, sheet_name='ind_hourly_activities').fillna(method='ffill')\n",
    "\n",
    "all_day_of_week_stat = generate_stats(all_daily_activities, by='day of week')\n",
    "std_thresholds = all_daily_activities.merge(all_day_of_week_stat, on=['day of week'], how='left')\n",
    "threshold_detections = generate_score(std_thresholds)\n",
    "\n",
    "all_hourly_stat = generate_stats(all_hourly_activities, by='hourly')"
   ]
  }
 ],
 "metadata": {
  "kernelspec": {
   "display_name": "Python 3",
   "language": "python",
   "name": "python3"
  },
  "language_info": {
   "codemirror_mode": {
    "name": "ipython",
    "version": 3
   },
   "file_extension": ".py",
   "mimetype": "text/x-python",
   "name": "python",
   "nbconvert_exporter": "python",
   "pygments_lexer": "ipython3",
   "version": "3.7.7"
  }
 },
 "nbformat": 4,
 "nbformat_minor": 4
}
